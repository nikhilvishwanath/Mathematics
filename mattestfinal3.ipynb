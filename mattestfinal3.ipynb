{
 "cells": [
  {
   "cell_type": "code",
   "execution_count": 13,
   "metadata": {},
   "outputs": [],
   "source": [
    "import numpy as np\n",
    "import sympy as sp\n",
    "from sympy.interactive.printing import init_printing\n",
    "from IPython.display import display, Math"
   ]
  },
  {
   "cell_type": "code",
   "execution_count": 14,
   "metadata": {},
   "outputs": [],
   "source": [
    "init_printing(use_unicode=False, wrap_line=False)"
   ]
  },
  {
   "cell_type": "markdown",
   "metadata": {},
   "source": [
    "# Wedderburn "
   ]
  },
  {
   "cell_type": "code",
   "execution_count": 17,
   "metadata": {},
   "outputs": [
    {
     "data": {
      "image/png": "[encoded data removed]",
      "text/latex": [
       "$$\\left[\\begin{matrix}-184 & -120 & 164 & -17\\\\-273 & -303 & 263 & -407\\\\405 & -245 & 494 & -453\\\\223 & -309 & 88 & -380\\\\44 & 467 & -487 & -191\\\\136 & 408 & -180 & 467\\end{matrix}\\right]$$"
      ],
      "text/plain": [
       "[-184  -120  164   -17 ]\n",
       "[                      ]\n",
       "[-273  -303  263   -407]\n",
       "[                      ]\n",
       "[405   -245  494   -453]\n",
       "[                      ]\n",
       "[223   -309   88   -380]\n",
       "[                      ]\n",
       "[ 44   467   -487  -191]\n",
       "[                      ]\n",
       "[136   408   -180  467 ]"
      ]
     },
     "execution_count": 17,
     "metadata": {},
     "output_type": "execute_result"
    }
   ],
   "source": [
    "C = np.random.randint(size = (6,4), high = 500, low = -500)\n",
    "sp.Matrix(C)"
   ]
  },
  {
   "cell_type": "code",
   "execution_count": 18,
   "metadata": {},
   "outputs": [],
   "source": [
    "def wedd(A, sv = False):\n",
    "    B = A\n",
    "    r = np.linalg.matrix_rank(A)\n",
    "    (m,n) = A.shape\n",
    "    i1 = np.identity(max(m,n))[np.ix_(list(range(m)),list(range(n)))]\n",
    "    i2 = i1.T\n",
    "    k = 0\n",
    "    ans = []\n",
    "    ans.append(B)\n",
    "    ind = np.nonzero(B)\n",
    "    non = (ind[0][0],ind[1][0])\n",
    "    s = []\n",
    "    w = []\n",
    "    ei = []\n",
    "    ej = []\n",
    "    while(abs(B[non]) > 1e-5):\n",
    "        ei.append(i2[:,[non[1]]])\n",
    "        ej.append(i1[:,[non[0]]])\n",
    "        w.append(float(np.matmul(ej[k].T,np.matmul(B,ei[k]))))\n",
    "        eij = np.matmul(ei[k],ej[k].T)\n",
    "        s.append((np.matmul(B,np.matmul(eij,B))/w[k]))\n",
    "        B = B - s[k]\n",
    "        B[abs(B)<1e-8] = 0\n",
    "        ans.append(B)\n",
    "        ind = np.nonzero(B)\n",
    "        try:\n",
    "            non = (ind[0][0],ind[1][0])\n",
    "        except IndexError:\n",
    "            non = (0,0)\n",
    "        k += 1\n",
    "    return(ans,s)"
   ]
  },
  {
   "cell_type": "code",
   "execution_count": 19,
   "metadata": {},
   "outputs": [],
   "source": [
    "a = wedd(C)"
   ]
  },
  {
   "cell_type": "markdown",
   "metadata": {},
   "source": [
    "### The Wedderburn Matrices"
   ]
  },
  {
   "cell_type": "code",
   "execution_count": 20,
   "metadata": {},
   "outputs": [
    {
     "data": {
      "text/latex": [
       "$\\displaystyle \\left[\\begin{matrix}-184 & -120 & 164 & -17\\\\-273 & -303 & 263 & -407\\\\405 & -245 & 494 & -453\\\\223 & -309 & 88 & -380\\\\44 & 467 & -487 & -191\\\\136 & 408 & -180 & 467\\end{matrix}\\right]$"
      ],
      "text/plain": [
       "<IPython.core.display.Math object>"
      ]
     },
     "metadata": {},
     "output_type": "display_data"
    },
    {
     "data": {
      "text/latex": [
       "$\\displaystyle \\left[\\begin{matrix}0.0 & 0.0 & 0.0 & 0.0\\\\0.0 & -124.95652173913 & 19.6739130434783 & -381.777173913043\\\\0.0 & -509.130434782609 & 854.978260869565 & -490.41847826087\\\\0.0 & -454.434782608696 & 286.760869565217 & -400.603260869565\\\\0.0 & 438.304347826087 & -447.782608695652 & -195.065217391304\\\\0.0 & 319.304347826087 & -58.7826086956522 & 454.434782608696\\end{matrix}\\right]$"
      ],
      "text/plain": [
       "<IPython.core.display.Math object>"
      ]
     },
     "metadata": {},
     "output_type": "display_data"
    },
    {
     "data": {
      "text/latex": [
       "$\\displaystyle \\left[\\begin{matrix}0.0 & 0.0 & 0.0 & 0.0\\\\0.0 & 0.0 & 0.0 & 0.0\\\\0.0 & 0.0 & 774.817675713292 & 1065.11760612387\\\\0.0 & 0.0 & 215.211899791232 & 987.822286012526\\\\0.0 & 0.0 & -378.773312456507 & -1534.20776791928\\\\0.0 & 0.0 & -8.50939457202508 & -521.129436325679\\end{matrix}\\right]$"
      ],
      "text/plain": [
       "<IPython.core.display.Math object>"
      ]
     },
     "metadata": {},
     "output_type": "display_data"
    },
    {
     "data": {
      "text/latex": [
       "$\\displaystyle \\left[\\begin{matrix}0.0 & 0.0 & 0.0 & 0.0\\\\0.0 & 0.0 & 0.0 & 0.0\\\\0.0 & 0.0 & 0.0 & 0.0\\\\0.0 & 0.0 & 0.0 & 691.977223748061\\\\0.0 & 0.0 & 0.0 & -1013.51995132309\\\\0.0 & 0.0 & 0.0 & -509.431837961296\\end{matrix}\\right]$"
      ],
      "text/plain": [
       "<IPython.core.display.Math object>"
      ]
     },
     "metadata": {},
     "output_type": "display_data"
    },
    {
     "data": {
      "text/latex": [
       "$\\displaystyle \\left[\\begin{matrix}0.0 & 0.0 & 0.0 & 0.0\\\\0.0 & 0.0 & 0.0 & 0.0\\\\0.0 & 0.0 & 0.0 & 0.0\\\\0.0 & 0.0 & 0.0 & 0.0\\\\0.0 & 0.0 & 0.0 & 0.0\\\\0.0 & 0.0 & 0.0 & 0.0\\end{matrix}\\right]$"
      ],
      "text/plain": [
       "<IPython.core.display.Math object>"
      ]
     },
     "metadata": {},
     "output_type": "display_data"
    }
   ],
   "source": [
    "for i in range(len(a[0])):\n",
    "    t = sp.latex(sp.Matrix(a[0][i]))\n",
    "    r = r'{}'.format(t)\n",
    "    display(Math(r))"
   ]
  },
  {
   "cell_type": "code",
   "execution_count": 21,
   "metadata": {},
   "outputs": [
    {
     "data": {
      "text/plain": [
       "4"
      ]
     },
     "execution_count": 21,
     "metadata": {},
     "output_type": "execute_result"
    }
   ],
   "source": [
    "np.linalg.matrix_rank(a[0][0])"
   ]
  },
  {
   "cell_type": "markdown",
   "metadata": {},
   "source": [
    "### Matrix A as a sum of rank one Matrices"
   ]
  },
  {
   "cell_type": "code",
   "execution_count": 22,
   "metadata": {},
   "outputs": [
    {
     "data": {
      "text/latex": [
       "$\\displaystyle \\left[\\begin{matrix}-184.0 & -120.0 & 164.0 & -17.0\\\\-273.0 & -178.04347826087 & 243.326086956522 & -25.2228260869565\\\\405.0 & 264.130434782609 & -360.978260869565 & 37.4184782608696\\\\223.0 & 145.434782608696 & -198.760869565217 & 20.6032608695652\\\\44.0 & 28.695652173913 & -39.2173913043478 & 4.06521739130435\\\\136.0 & 88.695652173913 & -121.217391304348 & 12.5652173913043\\end{matrix}\\right]$"
      ],
      "text/plain": [
       "<IPython.core.display.Math object>"
      ]
     },
     "metadata": {},
     "output_type": "display_data"
    },
    {
     "data": {
      "text/latex": [
       "$\\displaystyle \\left[\\begin{matrix}0.0 & 0.0 & 0.0 & 0.0\\\\0.0 & -124.95652173913 & 19.6739130434783 & -381.777173913043\\\\0.0 & -509.130434782609 & 80.1605851562736 & -1555.53608438474\\\\0.0 & -454.434782608696 & 71.5489697739856 & -1388.42554688209\\\\0.0 & 438.304347826087 & -69.0092962391455 & 1339.14255052797\\\\0.0 & 319.304347826087 & -50.2732141236271 & 975.564218934374\\end{matrix}\\right]$"
      ],
      "text/plain": [
       "<IPython.core.display.Math object>"
      ]
     },
     "metadata": {},
     "output_type": "display_data"
    },
    {
     "data": {
      "text/latex": [
       "$\\displaystyle \\left[\\begin{matrix}0.0 & 0.0 & 0.0 & 0.0\\\\0.0 & 0.0 & 0.0 & 0.0\\\\0.0 & 0.0 & 774.817675713292 & 1065.11760612387\\\\0.0 & 0.0 & 215.211899791232 & 295.845062264465\\\\0.0 & 0.0 & -378.773312456507 & -520.687816596182\\\\0.0 & 0.0 & -8.50939457202508 & -11.6975983643829\\end{matrix}\\right]$"
      ],
      "text/plain": [
       "<IPython.core.display.Math object>"
      ]
     },
     "metadata": {},
     "output_type": "display_data"
    },
    {
     "data": {
      "text/latex": [
       "$\\displaystyle \\left[\\begin{matrix}0.0 & 0.0 & 0.0 & 0.0\\\\0.0 & 0.0 & 0.0 & 0.0\\\\0.0 & 0.0 & 0.0 & 0.0\\\\0.0 & 0.0 & 0.0 & 691.977223748061\\\\0.0 & 0.0 & 0.0 & -1013.51995132309\\\\0.0 & 0.0 & 0.0 & -509.431837961296\\end{matrix}\\right]$"
      ],
      "text/plain": [
       "<IPython.core.display.Math object>"
      ]
     },
     "metadata": {},
     "output_type": "display_data"
    },
    {
     "data": {
      "image/png": "[encoded data removed]",
      "text/latex": [
       "$$\\left[\\begin{matrix}-184.0 & -120.0 & 164.0 & -17.0\\\\-273.0 & -303.0 & 263.0 & -407.0\\\\405.0 & -245.0 & 494.0 & -453.0\\\\223.0 & -309.0 & 88.0 & -380.0\\\\44.0 & 467.0 & -487.0 & -191.0\\\\136.0 & 408.0 & -180.0 & 467.0\\end{matrix}\\right]$$"
      ],
      "text/plain": [
       "[-184.0  -120.0  164.0   -17.0 ]\n",
       "[                              ]\n",
       "[-273.0  -303.0  263.0   -407.0]\n",
       "[                              ]\n",
       "[405.0   -245.0  494.0   -453.0]\n",
       "[                              ]\n",
       "[223.0   -309.0   88.0   -380.0]\n",
       "[                              ]\n",
       "[ 44.0   467.0   -487.0  -191.0]\n",
       "[                              ]\n",
       "[136.0   408.0   -180.0  467.0 ]"
      ]
     },
     "execution_count": 22,
     "metadata": {},
     "output_type": "execute_result"
    }
   ],
   "source": [
    "for i in range(len(a[1])):\n",
    "    t = sp.latex(sp.Matrix(a[1][i]))\n",
    "    r = r'{}'.format(t)\n",
    "    display(Math(r))\n",
    "(m,n) = a[1][0].shape\n",
    "p = np.zeros((m,n))\n",
    "for i in range(len(a[1])):\n",
    "    p = p + a[1][i]\n",
    "sp.Matrix(p)"
   ]
  },
  {
   "cell_type": "code",
   "execution_count": 23,
   "metadata": {},
   "outputs": [
    {
     "data": {
      "text/plain": [
       "1"
      ]
     },
     "execution_count": 23,
     "metadata": {},
     "output_type": "execute_result"
    }
   ],
   "source": [
    "np.linalg.matrix_rank(a[1][3])"
   ]
  },
  {
   "cell_type": "markdown",
   "metadata": {},
   "source": [
    "# Biconjugation"
   ]
  },
  {
   "cell_type": "code",
   "execution_count": 72,
   "metadata": {},
   "outputs": [],
   "source": [
    "def prin(A):\n",
    "    (m,n) = A.shape\n",
    "    l = []\n",
    "    flag = 0\n",
    "    for i in range(min(m,n)):\n",
    "        l.append(i)\n",
    "        if np.linalg.det(A[np.ix_(l,l)]) == 0:\n",
    "            return(0)\n",
    "    return(1)"
   ]
  },
  {
   "cell_type": "code",
   "execution_count": 73,
   "metadata": {},
   "outputs": [],
   "source": [
    "def bic(A, s, x1 = np.matrix([]), y1 = np.matrix([])):\n",
    "    m = A.shape[0]\n",
    "    n = A.shape[1]\n",
    "    r = np.linalg.matrix_rank(A)\n",
    "    u = []\n",
    "    v = []\n",
    "    w = []\n",
    "    if s == 'trapldu':\n",
    "        X = np.identity(n)[np.ix_(list(range(n)),list(range(r)))]\n",
    "        Y = np.identity(m)[np.ix_(list(range(m)),list(range(r)))]\n",
    "    elif s == 'qr':\n",
    "        X = np.identity(n)\n",
    "        Y = A\n",
    "    elif s == 'cholesky':\n",
    "        X = np.identity(m)\n",
    "        Y = np.identity(m)\n",
    "    elif s == 'sv':\n",
    "        X = x1\n",
    "        Y = y1\n",
    "    else:\n",
    "        print('Invalid Choice')\n",
    "        return()\n",
    "    u.append(X[:,[0]])\n",
    "    v.append(Y[:,[0]])\n",
    "    for k in range(1,r):\n",
    "        sum1 = np.zeros((n,1))\n",
    "        sum2 = np.zeros((m,1))\n",
    "        for j in range(k):\n",
    "            sum1 = sum1 + ((float(np.matmul(np.matmul(v[j].T,A),X[:,[k]]))/float(np.matmul(np.matmul(v[j].T,A),u[j])))*u[j])\n",
    "            sum2 = sum2 + ((float(np.matmul(np.matmul(Y[:,[k]].T,A),u[j]))/float(np.matmul(np.matmul(v[j].T,A),u[j])))*v[j])\n",
    "        u.append(X[:,[k]] - sum1)\n",
    "        v.append(Y[:,[k]] - sum2)\n",
    "    for k in range(r):\n",
    "        w.append(float(np.matmul(np.matmul(v[k].T,A),u[k])))\n",
    "    U = np.concatenate(u, axis = 1)\n",
    "    V = np.concatenate(v, axis = 1)\n",
    "    W = np.diag(w)\n",
    "    if s == 'cholesky':\n",
    "        W1 = np.sqrt(W)\n",
    "        R = np.matmul(W1,np.linalg.inv(U))\n",
    "        return(R)\n",
    "    elif s == 'qr':\n",
    "        W1 = np.sqrt(W)\n",
    "        R = np.matmul(W1,np.linalg.inv(U))\n",
    "        Q = np.matmul(V,np.linalg.inv(W1))\n",
    "        return(Q,R)\n",
    "    elif s == 'trapldu':\n",
    "        L = np.matmul(A,U)\n",
    "        D = np.linalg.inv(W)\n",
    "        U = np.matmul(V.T,A)\n",
    "        return(L,D,U)\n",
    "    elif s == 'sv':\n",
    "        return(U,W,V)\n",
    "    else:\n",
    "        print('Invalid Choice')"
   ]
  },
  {
   "cell_type": "markdown",
   "metadata": {},
   "source": [
    "# QR Decomposition"
   ]
  },
  {
   "cell_type": "code",
   "execution_count": 83,
   "metadata": {},
   "outputs": [
    {
     "data": {
      "image/png": "[encoded data removed]",
      "text/latex": [
       "$$\\left[\\begin{matrix}294 & -289 & 444\\\\-431 & 32 & -191\\\\-380 & -231 & 162\\\\237 & -247 & 324\\end{matrix}\\right]$$"
      ],
      "text/plain": [
       "[294   -289  444 ]\n",
       "[                ]\n",
       "[-431   32   -191]\n",
       "[                ]\n",
       "[-380  -231  162 ]\n",
       "[                ]\n",
       "[237   -247  324 ]"
      ]
     },
     "execution_count": 83,
     "metadata": {},
     "output_type": "execute_result"
    }
   ],
   "source": [
    "C = np.random.randint(size = (4,3), high = 500, low = -500)\n",
    "sp.Matrix(C)"
   ]
  },
  {
   "cell_type": "code",
   "execution_count": 84,
   "metadata": {},
   "outputs": [],
   "source": [
    "R = bic(C, 'qr')"
   ]
  },
  {
   "cell_type": "code",
   "execution_count": 85,
   "metadata": {},
   "outputs": [
    {
     "data": {
      "text/latex": [
       "$\\displaystyle \\left[\\begin{matrix}294 & -289 & 444\\\\-431 & 32 & -191\\\\-380 & -231 & 162\\\\237 & -247 & 324\\end{matrix}\\right] = \\left[\\begin{matrix}0.427586724052469 & -0.565782828654513 & 0.383065124733331\\\\-0.626836319954469 & -0.0722294133002041 & -0.41740076789095\\\\-0.552663112720878 & -0.660414985051014 & 0.288343145095499\\\\0.344687257144337 & -0.488389957077411 & -0.771942964119448\\end{matrix}\\right] \\left[\\begin{matrix}687.579813548944 & -101.103898965835 & 331.721489644583\\\\0.0 & 434.388077200452 & -502.63733165361\\\\0.0 & 0.0 & 46.4065311795405\\end{matrix}\\right]$"
      ],
      "text/plain": [
       "<IPython.core.display.Math object>"
      ]
     },
     "metadata": {},
     "output_type": "display_data"
    }
   ],
   "source": [
    "t = sp.latex(sp.Eq(sp.Matrix(C), sp.MatMul(sp.Matrix(R[0]), sp.Matrix(R[1]))))\n",
    "r = r'{}'.format(t)\n",
    "display(Math(r))"
   ]
  },
  {
   "cell_type": "code",
   "execution_count": 30,
   "metadata": {},
   "outputs": [
    {
     "data": {
      "image/png": "[encoded data removed]",
      "text/latex": [
       "$$\\left[\\begin{matrix}-30.0 & 372.0 & 405.0\\\\465.0 & -2.0 & -465.0\\\\-445.0 & 437.0 & 270.0\\\\187.0 & -233.0 & 436.0\\end{matrix}\\right]$$"
      ],
      "text/plain": [
       "[-30.0   372.0   405.0 ]\n",
       "[                      ]\n",
       "[465.0    -2.0   -465.0]\n",
       "[                      ]\n",
       "[-445.0  437.0   270.0 ]\n",
       "[                      ]\n",
       "[187.0   -233.0  436.0 ]"
      ]
     },
     "execution_count": 30,
     "metadata": {},
     "output_type": "execute_result"
    }
   ],
   "source": [
    "sp.Matrix(np.matmul(R[0],R[1]))"
   ]
  },
  {
   "cell_type": "code",
   "execution_count": 31,
   "metadata": {},
   "outputs": [
    {
     "name": "stdout",
     "output_type": "stream",
     "text": [
      "Q = \n"
     ]
    },
    {
     "data": {
      "image/png": "[encoded data removed]",
      "text/latex": [
       "$$\\left[\\begin{matrix}-0.0447154475649732 & 0.718381369127384 & 0.515966434439069\\\\0.693089437257084 & 0.518362867058997 & -0.301710939760334\\\\-0.663279138880435 & 0.383560460728683 & -0.0131998638019101\\\\0.278726289821666 & -0.260978005798653 & 0.801607703903088\\end{matrix}\\right]$$"
      ],
      "text/plain": [
       "[-0.0447154475649732  0.718381369127384    0.515966434439069 ]\n",
       "[                                                            ]\n",
       "[ 0.693089437257084   0.518362867058997   -0.301710939760334 ]\n",
       "[                                                            ]\n",
       "[-0.663279138880435   0.383560460728683   -0.0131998638019101]\n",
       "[                                                            ]\n",
       "[ 0.278726289821666   -0.260978005798653   0.801607703903088 ]"
      ]
     },
     "execution_count": 31,
     "metadata": {},
     "output_type": "execute_result"
    }
   ],
   "source": [
    "print('Q = ')\n",
    "sp.Matrix(R[0])"
   ]
  },
  {
   "cell_type": "code",
   "execution_count": 32,
   "metadata": {},
   "outputs": [
    {
     "name": "stdout",
     "output_type": "stream",
     "text": [
      "R = \n"
     ]
    },
    {
     "data": {
      "image/png": "[encoded data removed]",
      "text/latex": [
       "$$\\left[\\begin{matrix}670.909084749938 & -372.816534587883 & -397.957049723829\\\\0.0 & 494.62494027079 & 39.6806351826886\\\\0.0 & 0.0 & 695.198988611609\\end{matrix}\\right]$$"
      ],
      "text/plain": [
       "[670.909084749938  -372.816534587883  -397.957049723829]\n",
       "[                                                      ]\n",
       "[      0.0          494.62494027079   39.6806351826886 ]\n",
       "[                                                      ]\n",
       "[      0.0                0.0         695.198988611609 ]"
      ]
     },
     "execution_count": 32,
     "metadata": {},
     "output_type": "execute_result"
    }
   ],
   "source": [
    "print('R = ')\n",
    "sp.Matrix(R[1])"
   ]
  },
  {
   "cell_type": "markdown",
   "metadata": {},
   "source": [
    "# Cholesky Factorisation"
   ]
  },
  {
   "cell_type": "code",
   "execution_count": 79,
   "metadata": {},
   "outputs": [],
   "source": [
    "A = np.random.randint(low = 1,high = 100, size = (3,3))\n",
    "C = np.dot(A,A.T)"
   ]
  },
  {
   "cell_type": "code",
   "execution_count": 80,
   "metadata": {},
   "outputs": [
    {
     "data": {
      "image/png": "[encoded data removed]",
      "text/latex": [
       "$$\\left[\\begin{matrix}8450 & 6913 & 7860\\\\6913 & 8110 & 3485\\\\7860 & 3485 & 12750\\end{matrix}\\right]$$"
      ],
      "text/plain": [
       "[8450  6913  7860 ]\n",
       "[                 ]\n",
       "[6913  8110  3485 ]\n",
       "[                 ]\n",
       "[7860  3485  12750]"
      ]
     },
     "execution_count": 80,
     "metadata": {},
     "output_type": "execute_result"
    }
   ],
   "source": [
    "sp.Matrix(C)"
   ]
  },
  {
   "cell_type": "code",
   "execution_count": 81,
   "metadata": {},
   "outputs": [],
   "source": [
    "R = bic(C, 'cholesky')"
   ]
  },
  {
   "cell_type": "code",
   "execution_count": 82,
   "metadata": {},
   "outputs": [
    {
     "data": {
      "text/latex": [
       "$\\displaystyle \\left[\\begin{matrix}8450 & 6913 & 7860\\\\6913 & 8110 & 3485\\\\7860 & 3485 & 12750\\end{matrix}\\right] = \\left[\\begin{matrix}91.9238815542512 & 0.0 & 0.0\\\\75.2035258206554 & 49.542201244414 & 0.0\\\\85.5055276942502 & -59.4506720691061 & 43.639687490396\\end{matrix}\\right] \\left[\\begin{matrix}91.9238815542512 & 75.2035258206554 & 85.5055276942502\\\\0.0 & 49.542201244414 & -59.4506720691061\\\\0.0 & 0.0 & 43.639687490396\\end{matrix}\\right]$"
      ],
      "text/plain": [
       "<IPython.core.display.Math object>"
      ]
     },
     "metadata": {},
     "output_type": "display_data"
    }
   ],
   "source": [
    "t = sp.latex(sp.Eq(sp.Matrix(C), sp.MatMul(sp.Matrix(R.T), sp.Matrix(R))))\n",
    "r = r'{}'.format(t)\n",
    "display(Math(r))"
   ]
  },
  {
   "cell_type": "code",
   "execution_count": 37,
   "metadata": {},
   "outputs": [
    {
     "data": {
      "image/png": "[encoded data removed]",
      "text/latex": [
       "$$\\left[\\begin{matrix}6570.0 & 3927.0 & 9027.0\\\\3927.0 & 3254.0 & 5909.0\\\\9027.0 & 5909.0 & 13498.0\\end{matrix}\\right]$$"
      ],
      "text/plain": [
       "[6570.0  3927.0  9027.0 ]\n",
       "[                       ]\n",
       "[3927.0  3254.0  5909.0 ]\n",
       "[                       ]\n",
       "[9027.0  5909.0  13498.0]"
      ]
     },
     "execution_count": 37,
     "metadata": {},
     "output_type": "execute_result"
    }
   ],
   "source": [
    "sp.Matrix(np.matmul(R.T,R))"
   ]
  },
  {
   "cell_type": "code",
   "execution_count": 38,
   "metadata": {},
   "outputs": [
    {
     "name": "stdout",
     "output_type": "stream",
     "text": [
      "R = \n"
     ]
    },
    {
     "data": {
      "image/png": "[encoded data removed]",
      "text/latex": [
       "$$\\left[\\begin{matrix}81.0555365166378 & 48.4482636074333 & 111.36808647423\\\\0.0 & 30.1125514266835 & 17.0496874132741\\\\0.0 & 0.0 & 28.3629595454729\\end{matrix}\\right]$$"
      ],
      "text/plain": [
       "[81.0555365166378  48.4482636074333  111.36808647423 ]\n",
       "[                                                    ]\n",
       "[      0.0         30.1125514266835  17.0496874132741]\n",
       "[                                                    ]\n",
       "[      0.0               0.0         28.3629595454729]"
      ]
     },
     "execution_count": 38,
     "metadata": {},
     "output_type": "execute_result"
    }
   ],
   "source": [
    "print('R = ')\n",
    "sp.Matrix(R)"
   ]
  },
  {
   "cell_type": "markdown",
   "metadata": {},
   "source": [
    "# LDU Facatorisation"
   ]
  },
  {
   "cell_type": "code",
   "execution_count": 74,
   "metadata": {},
   "outputs": [
    {
     "data": {
      "image/png": "[encoded data removed]",
      "text/latex": [
       "$$\\left[\\begin{matrix}379 & 241 & 173\\\\359 & -406 & 59\\\\-326 & -387 & -434\\\\-163 & 420 & -452\\\\405 & -406 & -383\\\\480 & 406 & -175\\\\-133 & -418 & 189\\end{matrix}\\right]$$"
      ],
      "text/plain": [
       "[379   241   173 ]\n",
       "[                ]\n",
       "[359   -406   59 ]\n",
       "[                ]\n",
       "[-326  -387  -434]\n",
       "[                ]\n",
       "[-163  420   -452]\n",
       "[                ]\n",
       "[405   -406  -383]\n",
       "[                ]\n",
       "[480   406   -175]\n",
       "[                ]\n",
       "[-133  -418  189 ]"
      ]
     },
     "execution_count": 74,
     "metadata": {},
     "output_type": "execute_result"
    }
   ],
   "source": [
    "C = np.random.randint(size = (7,3), high = 500, low = -500)\n",
    "sp.Matrix(C)"
   ]
  },
  {
   "cell_type": "code",
   "execution_count": 75,
   "metadata": {},
   "outputs": [],
   "source": [
    "R = bic(C,'trapldu')"
   ]
  },
  {
   "cell_type": "code",
   "execution_count": 76,
   "metadata": {},
   "outputs": [],
   "source": [
    "a0 = R[0]\n",
    "a2 = R[2]\n",
    "a1 = R[1]"
   ]
  },
  {
   "cell_type": "code",
   "execution_count": 77,
   "metadata": {},
   "outputs": [],
   "source": [
    "a0[abs(a0)<1e-10] = 0\n",
    "a2[abs(a2)<1e-10] = 0\n",
    "a1[abs(a1)<1e-10] = 0"
   ]
  },
  {
   "cell_type": "code",
   "execution_count": 78,
   "metadata": {},
   "outputs": [
    {
     "data": {
      "text/latex": [
       "$\\displaystyle \\left[\\begin{matrix}379 & 241 & 173\\\\359 & -406 & 59\\\\-326 & -387 & -434\\\\-163 & 420 & -452\\\\405 & -406 & -383\\\\480 & 406 & -175\\\\-133 & -418 & 189\\end{matrix}\\right] = \\left[\\begin{matrix}379.0 & 0.0 & 0.0\\\\359.0 & -634.282321899736 & 0.0\\\\-326.0 & -179.701846965699 & -255.481141297792\\\\-163.0 & 523.64907651715 & -464.175183969583\\\\405.0 & -663.532981530343 & -458.161127819862\\\\480.0 & 100.775725593668 & -410.76491827965\\\\-133.0 & -333.427440633245 & 304.837853015687\\end{matrix}\\right] \\left[\\begin{matrix}0.00263852242744063 & 0.0 & 0.0\\\\0.0 & -0.0015765850087149 & 0.0\\\\0.0 & 0.0 & -0.00391418323450493\\end{matrix}\\right] \\left[\\begin{matrix}379.0 & 241.0 & 173.0\\\\0.0 & -634.282321899736 & -104.870712401055\\\\0.0 & 0.0 & -255.481141297792\\end{matrix}\\right]$"
      ],
      "text/plain": [
       "<IPython.core.display.Math object>"
      ]
     },
     "metadata": {},
     "output_type": "display_data"
    }
   ],
   "source": [
    "t = sp.latex(sp.Eq(sp.Matrix(C), sp.MatMul(sp.MatMul(sp.Matrix(a0), sp.Matrix(a1), sp.Matrix(a2)))))\n",
    "r = r'{}'.format(t)\n",
    "display(Math(r))"
   ]
  },
  {
   "cell_type": "code",
   "execution_count": 46,
   "metadata": {},
   "outputs": [
    {
     "data": {
      "image/png": "[encoded data removed]",
      "text/latex": [
       "$$\\left[\\begin{matrix}21.0 & 464.0 & 330.0\\\\-162.0 & 242.0 & -231.0\\\\-319.0 & 12.0 & -390.999999999999\\\\445.0 & -73.0 & -217.000000000001\\\\247.0 & 264.0 & 324.0\\\\-83.0 & -125.0 & -407.0\\\\-89.0 & 286.0 & 30.9999999999996\\end{matrix}\\right]$$"
      ],
      "text/plain": [
       "[ 21.0   464.0         330.0      ]\n",
       "[                                 ]\n",
       "[-162.0  242.0        -231.0      ]\n",
       "[                                 ]\n",
       "[-319.0   12.0   -390.999999999999]\n",
       "[                                 ]\n",
       "[445.0   -73.0   -217.000000000001]\n",
       "[                                 ]\n",
       "[247.0   264.0         324.0      ]\n",
       "[                                 ]\n",
       "[-83.0   -125.0       -407.0      ]\n",
       "[                                 ]\n",
       "[-89.0   286.0   30.9999999999996 ]"
      ]
     },
     "execution_count": 46,
     "metadata": {},
     "output_type": "execute_result"
    }
   ],
   "source": [
    "sp.Matrix(np.matmul(np.matmul(R[0],R[1]),R[2]))"
   ]
  },
  {
   "cell_type": "code",
   "execution_count": 47,
   "metadata": {},
   "outputs": [
    {
     "name": "stdout",
     "output_type": "stream",
     "text": [
      "L = \n"
     ]
    },
    {
     "data": {
      "image/png": "[encoded data removed]",
      "text/latex": [
       "$$\\left[\\begin{matrix}21.0 & 0.0 & 0.0\\\\-162.0 & 3821.42857142857 & 0.0\\\\-319.0 & 7060.38095238095 & 345.245831775701\\\\445.0 & -9905.38095238095 & -1209.9734953271\\\\247.0 & -5193.52380952381 & -411.609271028037\\\\-83.0 & 1708.90476190476 & -137.831439252337\\\\-89.0 & 2252.47619047619 & 65.2023925233644\\end{matrix}\\right]$$"
      ],
      "text/plain": [
       "[ 21.0          0.0                0.0       ]\n",
       "[                                            ]\n",
       "[-162.0  3821.42857142857          0.0       ]\n",
       "[                                            ]\n",
       "[-319.0  7060.38095238095   345.245831775701 ]\n",
       "[                                            ]\n",
       "[445.0   -9905.38095238095  -1209.9734953271 ]\n",
       "[                                            ]\n",
       "[247.0   -5193.52380952381  -411.609271028037]\n",
       "[                                            ]\n",
       "[-83.0   1708.90476190476   -137.831439252337]\n",
       "[                                            ]\n",
       "[-89.0   2252.47619047619   65.2023925233644 ]"
      ]
     },
     "execution_count": 47,
     "metadata": {},
     "output_type": "execute_result"
    }
   ],
   "source": [
    "print('L = ')\n",
    "sp.Matrix(a0)"
   ]
  },
  {
   "cell_type": "code",
   "execution_count": 48,
   "metadata": {},
   "outputs": [
    {
     "name": "stdout",
     "output_type": "stream",
     "text": [
      "D =\n"
     ]
    },
    {
     "data": {
      "image/png": "[encoded data removed]",
      "text/latex": [
       "$$\\left[\\begin{matrix}0.0476190476190476 & 0.0 & 0.0\\\\0.0 & 0.000261682242990654 & 0.0\\\\0.0 & 0.0 & 0.00289648681594997\\end{matrix}\\right]$$"
      ],
      "text/plain": [
       "[0.0476190476190476          0.0                   0.0        ]\n",
       "[                                                             ]\n",
       "[       0.0          0.000261682242990654          0.0        ]\n",
       "[                                                             ]\n",
       "[       0.0                  0.0           0.00289648681594997]"
      ]
     },
     "execution_count": 48,
     "metadata": {},
     "output_type": "execute_result"
    }
   ],
   "source": [
    "print('D =')\n",
    "sp.Matrix(a1)"
   ]
  },
  {
   "cell_type": "code",
   "execution_count": 49,
   "metadata": {},
   "outputs": [
    {
     "name": "stdout",
     "output_type": "stream",
     "text": [
      "U =\n"
     ]
    },
    {
     "data": {
      "image/png": "[encoded data removed]",
      "text/latex": [
       "$$\\left[\\begin{matrix}21.0 & 464.0 & 330.0\\\\0.0 & 3821.42857142857 & 2314.71428571429\\\\0.0 & 0.0 & 345.245831775701\\end{matrix}\\right]$$"
      ],
      "text/plain": [
       "[21.0       464.0             330.0      ]\n",
       "[                                        ]\n",
       "[0.0   3821.42857142857  2314.71428571429]\n",
       "[                                        ]\n",
       "[0.0         0.0         345.245831775701]"
      ]
     },
     "execution_count": 49,
     "metadata": {},
     "output_type": "execute_result"
    }
   ],
   "source": [
    "print('U =')\n",
    "sp.Matrix(a2)"
   ]
  },
  {
   "cell_type": "code",
   "execution_count": 50,
   "metadata": {},
   "outputs": [
    {
     "data": {
      "image/png": "[encoded data removed]",
      "text/latex": [
       "$$\\left[\\begin{matrix}1 & 2 & 3\\\\5 & 3 & 4\\\\8 & 3 & 4\\\\1 & 2 & 3\\\\5 & 3 & 4\\end{matrix}\\right]$$"
      ],
      "text/plain": [
       "[1  2  3]\n",
       "[       ]\n",
       "[5  3  4]\n",
       "[       ]\n",
       "[8  3  4]\n",
       "[       ]\n",
       "[1  2  3]\n",
       "[       ]\n",
       "[5  3  4]"
      ]
     },
     "execution_count": 50,
     "metadata": {},
     "output_type": "execute_result"
    }
   ],
   "source": [
    "C = np.matrix([[1,2,3],[5,3,4],[8,3,4],[1,2,3],[5,3,4]])\n",
    "sp.Matrix(C)"
   ]
  },
  {
   "cell_type": "markdown",
   "metadata": {},
   "source": [
    "# SVD"
   ]
  },
  {
   "cell_type": "code",
   "execution_count": 421,
   "metadata": {},
   "outputs": [
    {
     "data": {
      "text/latex": [
       "$$\\left[\\begin{matrix}483 & -239 & 468 & 395 & -49 & 422 & -86\\\\1 & -102 & -168 & 492 & 102 & -291 & -343\\\\-113 & 112 & 331 & 218 & 438 & -239 & 366\\\\72 & 36 & -445 & -255 & -102 & 286 & 491\\\\-167 & 427 & 451 & -192 & 75 & 291 & 252\\\\360 & 332 & -130 & -270 & -198 & 78 & -344\\end{matrix}\\right]$$"
      ],
      "text/plain": [
       "[483   -239  468   395   -49   422   -86 ]\n",
       "[                                        ]\n",
       "[ 1    -102  -168  492   102   -291  -343]\n",
       "[                                        ]\n",
       "[-113  112   331   218   438   -239  366 ]\n",
       "[                                        ]\n",
       "[ 72    36   -445  -255  -102  286   491 ]\n",
       "[                                        ]\n",
       "[-167  427   451   -192   75   291   252 ]\n",
       "[                                        ]\n",
       "[360   332   -130  -270  -198   78   -344]"
      ]
     },
     "execution_count": 421,
     "metadata": {},
     "output_type": "execute_result"
    }
   ],
   "source": [
    "C = np.random.randint(size = (6,7), high = 500, low = -500)\n",
    "sp.Matrix(C)"
   ]
  },
  {
   "cell_type": "code",
   "execution_count": 54,
   "metadata": {},
   "outputs": [],
   "source": [
    "from scipy.optimize import minimize"
   ]
  },
  {
   "cell_type": "code",
   "execution_count": 375,
   "metadata": {},
   "outputs": [],
   "source": [
    "def maxim(C):\n",
    "    m,n = C.shape\n",
    "    def objective1(x):\n",
    "        x1 = np.matrix(x[:n]).T\n",
    "        y1 = np.matrix(x[n:(n+m)]).T\n",
    "        return(-np.matmul(np.matmul(y1.T,C),x1))\n",
    "    def constraint1(x):\n",
    "        x1 = np.array(x[:n])\n",
    "        return(np.dot(x1,x1) - 1)\n",
    "    def constraint2(x):\n",
    "        y1 = np.array(x[n:(n+m)])\n",
    "        return(np.dot(y1,y1) - 1)\n",
    "\n",
    "    x0 = [0 for i in list(range(m+n))]\n",
    "    con1 = {'type': 'eq', 'fun': constraint1}\n",
    "    con2 = {'type': 'eq', 'fun': constraint2}\n",
    "\n",
    "    cons = [con1, con2]\n",
    "    sol = minimize(objective1,x0,method='SLSQP',constraints=cons)\n",
    "    return(sol)"
   ]
  },
  {
   "cell_type": "code",
   "execution_count": 376,
   "metadata": {},
   "outputs": [],
   "source": [
    "def wedd2(x,A):\n",
    "    m,n = A.shape\n",
    "    x1 = np.matrix(x[:n]).T\n",
    "    y1 = np.matrix(x[n:(n+m)]).T\n",
    "    w = float(np.matmul(y1.T,np.matmul(A,x1)))\n",
    "    eij = np.matmul(x1,y1.T)\n",
    "    s = np.matmul(A,np.matmul(eij,A))/w\n",
    "    return(A - s)"
   ]
  },
  {
   "cell_type": "code",
   "execution_count": 377,
   "metadata": {},
   "outputs": [],
   "source": [
    "def sv(A):\n",
    "    r = np.linalg.matrix_rank(A)\n",
    "    m,n = A.shape\n",
    "    w = []\n",
    "    main = []\n",
    "    u = []\n",
    "    v = []\n",
    "    for i in range(r):\n",
    "        sol = maxim(A)\n",
    "        main.append(sol.x)\n",
    "        u.append(np.matrix(main[i][:n]).T)\n",
    "        v.append(np.matrix(main[i][n:(n+m)]).T)\n",
    "        w.append(-sol.fun)\n",
    "        A = wedd2(main[i],A)\n",
    "    V = np.concatenate(u, axis = 1)\n",
    "    U = np.concatenate(v, axis = 1)\n",
    "    W = np.diag(w)\n",
    "    return(U,W,V)"
   ]
  },
  {
   "cell_type": "code",
   "execution_count": 422,
   "metadata": {},
   "outputs": [],
   "source": [
    "U,W,V = sv(C)"
   ]
  },
  {
   "cell_type": "markdown",
   "metadata": {},
   "source": [
    "### Singular Values are:"
   ]
  },
  {
   "cell_type": "code",
   "execution_count": 423,
   "metadata": {},
   "outputs": [
    {
     "data": {
      "text/latex": [
       "$$\\left[\\begin{matrix}1062.51280172889 & 0.0 & 0.0 & 0.0 & 0.0 & 0.0\\\\0.0 & 1007.33392737698 & 0.0 & 0.0 & 0.0 & 0.0\\\\0.0 & 0.0 & 917.029675400323 & 0.0 & 0.0 & 0.0\\\\0.0 & 0.0 & 0.0 & 664.778752311346 & 0.0 & 0.0\\\\0.0 & 0.0 & 0.0 & 0.0 & 365.318361565216 & 0.0\\\\0.0 & 0.0 & 0.0 & 0.0 & 0.0 & 229.022336277367\\end{matrix}\\right]$$"
      ],
      "text/plain": [
       "[1062.51280172889        0.0               0.0               0.0               0.0               0.0       ]\n",
       "[                                                                                                          ]\n",
       "[      0.0         1007.33392737698        0.0               0.0               0.0               0.0       ]\n",
       "[                                                                                                          ]\n",
       "[      0.0               0.0         917.029675400323        0.0               0.0               0.0       ]\n",
       "[                                                                                                          ]\n",
       "[      0.0               0.0               0.0         664.778752311346        0.0               0.0       ]\n",
       "[                                                                                                          ]\n",
       "[      0.0               0.0               0.0               0.0         365.318361565216        0.0       ]\n",
       "[                                                                                                          ]\n",
       "[      0.0               0.0               0.0               0.0               0.0         229.022336277367]"
      ]
     },
     "execution_count": 423,
     "metadata": {},
     "output_type": "execute_result"
    }
   ],
   "source": [
    "sp.Matrix(W)"
   ]
  },
  {
   "cell_type": "code",
   "execution_count": 424,
   "metadata": {},
   "outputs": [
    {
     "data": {
      "text/latex": [
       "$$\\left[\\begin{matrix}483 & -239 & 468 & 395 & -49 & 422 & -86\\\\1 & -102 & -168 & 492 & 102 & -291 & -343\\\\-113 & 112 & 331 & 218 & 438 & -239 & 366\\\\72 & 36 & -445 & -255 & -102 & 286 & 491\\\\-167 & 427 & 451 & -192 & 75 & 291 & 252\\\\360 & 332 & -130 & -270 & -198 & 78 & -344\\end{matrix}\\right]$$"
      ],
      "text/plain": [
       "[483   -239  468   395   -49   422   -86 ]\n",
       "[                                        ]\n",
       "[ 1    -102  -168  492   102   -291  -343]\n",
       "[                                        ]\n",
       "[-113  112   331   218   438   -239  366 ]\n",
       "[                                        ]\n",
       "[ 72    36   -445  -255  -102  286   491 ]\n",
       "[                                        ]\n",
       "[-167  427   451   -192   75   291   252 ]\n",
       "[                                        ]\n",
       "[360   332   -130  -270  -198   78   -344]"
      ]
     },
     "execution_count": 424,
     "metadata": {},
     "output_type": "execute_result"
    }
   ],
   "source": [
    "sp.Matrix(C)"
   ]
  },
  {
   "cell_type": "code",
   "execution_count": 425,
   "metadata": {},
   "outputs": [],
   "source": [
    "ans = np.matmul(U,np.matmul(W,V.T))"
   ]
  },
  {
   "cell_type": "code",
   "execution_count": 426,
   "metadata": {},
   "outputs": [
    {
     "data": {
      "text/latex": [
       "$\\displaystyle \\left[\\begin{matrix}482.986440731002 & -239.008187925706 & 468.013175556514 & 394.991945128666 & -49.0049068052192 & 422.002487804867 & -86.0098323044939\\\\0.995124446326179 & -102.005821529911 & -167.994614718387 & 492.003607794684 & 102.000876306576 & -290.996537058912 & -342.998100654349\\\\-112.999841442113 & 112.010188631174 & 331.020595388133 & 217.996160633769 & 438.008373330467 & -239.005192769492 & 365.98499585198\\\\71.9930812823217 & 35.9984492054409 & -444.982529601227 & -254.996606391048 & -101.992662688856 & 286.005127885767 & 491.003717247204\\\\-167.018015905131 & 426.99075329489 & 451.014189026211 & -192.014609956252 & 74.9880205613464 & 290.999298827396 & 251.981450332843\\\\360.004944480275 & 332.001705721227 & -130.000398382564 & -269.990326354161 & -197.993910244153 & 77.99982914016 & -343.99622790888\\end{matrix}\\right] = \\left[\\begin{matrix}0.442666277951438 & 0.291564565058001 & 0.76057878171594 & 0.362945277019749 & 0.0937880144222342 & -0.00464697387387968\\\\0.549747940551637 & -0.242772259173745 & -0.249476717351724 & -0.0322637215817635 & 0.341387770455577 & 0.677517316651287\\\\0.130779336558416 & 0.602279226409953 & -0.383817369449271 & 0.00133751696409009 & 0.600876490897937 & -0.334327167869651\\\\-0.578908560722256 & -0.121914541541728 & 0.0278395720467846 & 0.643120101852175 & 0.409531963722896 & 0.260585731685244\\\\-0.351028526452943 & 0.584221416493823 & 0.184913915805334 & -0.403525894524625 & -0.0687791599175016 & 0.5776799662355\\\\-0.162371134417907 & -0.370315608100989 & 0.420710486206987 & -0.539250754777371 & 0.584087993217062 & -0.165996896158736\\end{matrix}\\right] \\left[\\begin{matrix}1062.51280172889 & 0.0 & 0.0 & 0.0 & 0.0 & 0.0\\\\0.0 & 1007.33392737698 & 0.0 & 0.0 & 0.0 & 0.0\\\\0.0 & 0.0 & 917.029675400323 & 0.0 & 0.0 & 0.0\\\\0.0 & 0.0 & 0.0 & 664.778752311346 & 0.0 & 0.0\\\\0.0 & 0.0 & 0.0 & 0.0 & 365.318361565216 & 0.0\\\\0.0 & 0.0 & 0.0 & 0.0 & 0.0 & 229.022336277367\\end{matrix}\\right] \\left[\\begin{matrix}0.148766486096955 & -0.3499829411742 & 0.262120958578615 & 0.689590223477399 & 0.14732632296601 & -0.268053070097974 & -0.466455685389417\\\\-0.165916978409924 & 0.143615690569467 & 0.737081171304602 & 0.144850955150416 & 0.351743393154515 & 0.154854991068027 & 0.489767451915081\\\\0.581290846689159 & 0.0221555341789041 & 0.313113423969994 & -0.0678069063027313 & -0.330522609044096 & 0.632347586827342 & -0.223301647523605\\\\0.142420290191516 & -0.618982401250745 & -0.334465562428268 & 0.281085672617673 & -0.0144019461912287 & 0.280815183369739 & 0.571521039030048\\\\0.626858225354265 & 0.51834544396491 & -0.283849507186555 & 0.23837699206585 & 0.358164333990285 & -0.16607002214301 & 0.212395570092316\\\\-0.44220049803027 & 0.416925061874671 & -0.264154785423575 & 0.550470922892465 & -0.12005361131126 & 0.482376166672992 & -0.10361751376853\\end{matrix}\\right]$"
      ],
      "text/plain": [
       "<IPython.core.display.Math object>"
      ]
     },
     "metadata": {},
     "output_type": "display_data"
    }
   ],
   "source": [
    "t = sp.latex(sp.Eq(sp.Matrix(ans), sp.MatMul(sp.MatMul(sp.Matrix(U), sp.Matrix(W), sp.Matrix(V.T)))))\n",
    "r = r'{}'.format(t)\n",
    "display(Math(r))"
   ]
  },
  {
   "cell_type": "code",
   "execution_count": 410,
   "metadata": {},
   "outputs": [
    {
     "data": {
      "text/latex": [
       "$$\\left[\\begin{matrix}1243.41793463885\\\\1164.42783704461\\\\816.632091999976\\\\582.451319804234\\\\218.649681260791\\\\117.921394974239\\end{matrix}\\right]$$"
      ],
      "text/plain": [
       "[1243.41793463885]\n",
       "[                ]\n",
       "[1164.42783704461]\n",
       "[                ]\n",
       "[816.632091999976]\n",
       "[                ]\n",
       "[582.451319804234]\n",
       "[                ]\n",
       "[218.649681260791]\n",
       "[                ]\n",
       "[117.921394974239]"
      ]
     },
     "execution_count": 410,
     "metadata": {},
     "output_type": "execute_result"
    }
   ],
   "source": [
    "sp.Matrix(np.linalg.svd(C)[1])"
   ]
  },
  {
   "cell_type": "markdown",
   "metadata": {},
   "source": [
    "# Second"
   ]
  },
  {
   "cell_type": "code",
   "execution_count": 86,
   "metadata": {},
   "outputs": [
    {
     "data": {
      "image/png": "[encoded data removed]",
      "text/latex": [
       "$$\\left[\\begin{matrix}-223 & 27 & 240 & 124\\\\-244 & 320 & -160 & -230\\\\151 & -315 & -339 & 489\\\\65 & 357 & 52 & -137\\\\435 & -175 & -54 & 110\\end{matrix}\\right]$$"
      ],
      "text/plain": [
       "[-223   27   240   124 ]\n",
       "[                      ]\n",
       "[-244  320   -160  -230]\n",
       "[                      ]\n",
       "[151   -315  -339  489 ]\n",
       "[                      ]\n",
       "[ 65   357    52   -137]\n",
       "[                      ]\n",
       "[435   -175  -54   110 ]"
      ]
     },
     "execution_count": 86,
     "metadata": {},
     "output_type": "execute_result"
    }
   ],
   "source": [
    "C = np.random.randint(size = (5,4), high = 500, low = -500)\n",
    "sp.Matrix(C)"
   ]
  },
  {
   "cell_type": "code",
   "execution_count": 87,
   "metadata": {},
   "outputs": [],
   "source": [
    "def maxim2(C):\n",
    "    m,n = C.shape\n",
    "    def objective1(x):\n",
    "        x1 = np.matrix(x).T\n",
    "        return(-np.linalg.norm(np.matmul(C,x1)))\n",
    "    def constraint1(x):\n",
    "        x1 = np.array(x)\n",
    "        return(np.dot(x1,x1) - 1)\n",
    "\n",
    "    x0 = [0 for i in list(range(n))]\n",
    "    con1 = {'type': 'eq', 'fun': constraint1}\n",
    "\n",
    "    cons = [con1]\n",
    "    sol = minimize(objective1,x0,method='SLSQP',constraints=cons)\n",
    "    return(sol)"
   ]
  },
  {
   "cell_type": "code",
   "execution_count": 88,
   "metadata": {},
   "outputs": [],
   "source": [
    "def sv1(C):\n",
    "    m,n = C.shape\n",
    "    r = np.linalg.matrix_rank(C)\n",
    "    u = []\n",
    "    v = []\n",
    "    w = []\n",
    "    for i in range(r):\n",
    "        u.append(np.matrix(maxim2(C).x).T)\n",
    "        v.append(np.matrix(np.matmul(C,u[i])/np.linalg.norm(np.matmul(C,u[i]))))\n",
    "        w.append(float(np.matmul(v[i].T,np.matmul(C,u[i]))))\n",
    "        C = C - (w[i]*(np.matmul(v[i],u[i].T)))\n",
    "    U = np.concatenate(u, axis = 1)\n",
    "    V = np.concatenate(v, axis = 1)\n",
    "    print(w)\n",
    "    W = np.diag(w)\n",
    "    return(U,W,V)"
   ]
  },
  {
   "cell_type": "code",
   "execution_count": 89,
   "metadata": {},
   "outputs": [
    {
     "name": "stdout",
     "output_type": "stream",
     "text": [
      "[899.6938799147142, 456.1370088563611, 402.3226005110462, 220.40298743277506]\n"
     ]
    }
   ],
   "source": [
    "U,W,V = sv1(C)"
   ]
  },
  {
   "cell_type": "code",
   "execution_count": 90,
   "metadata": {},
   "outputs": [
    {
     "data": {
      "image/png": "[encoded data removed]",
      "text/latex": [
       "$$\\left[\\begin{matrix}-223 & 27 & 240 & 124\\\\-244 & 320 & -160 & -230\\\\151 & -315 & -339 & 489\\\\65 & 357 & 52 & -137\\\\435 & -175 & -54 & 110\\end{matrix}\\right]$$"
      ],
      "text/plain": [
       "[-223   27   240   124 ]\n",
       "[                      ]\n",
       "[-244  320   -160  -230]\n",
       "[                      ]\n",
       "[151   -315  -339  489 ]\n",
       "[                      ]\n",
       "[ 65   357    52   -137]\n",
       "[                      ]\n",
       "[435   -175  -54   110 ]"
      ]
     },
     "execution_count": 90,
     "metadata": {},
     "output_type": "execute_result"
    }
   ],
   "source": [
    "sp.Matrix(C)"
   ]
  },
  {
   "cell_type": "code",
   "execution_count": 91,
   "metadata": {},
   "outputs": [],
   "source": [
    "ans = sp.Matrix(np.matmul(np.matmul(V,W),U.T))"
   ]
  },
  {
   "cell_type": "code",
   "execution_count": 70,
   "metadata": {},
   "outputs": [
    {
     "data": {
      "text/latex": [
       "$\\displaystyle \\left[\\begin{matrix}-405 & -164 & -33 & -334\\\\-143 & -290 & -131 & 463\\\\-130 & 318 & 31 & 356\\\\-303 & -342 & 226 & 286\\\\-296 & 368 & 357 & 248\\end{matrix}\\right] = \\left[\\begin{matrix}-0.143016742900929 & -0.381979454179071 & -0.760919727379305 & -0.504548620562553\\\\0.432778490898271 & -0.4984535693331 & 0.432985325332121 & -0.405783139690895\\\\0.469035844051905 & 0.354210528324006 & 0.0902455260160335 & -0.527354845558508\\\\0.478086728563295 & -0.541204912476054 & -0.160040995715318 & 0.52247172477987\\\\0.586248621347623 & 0.432744589960829 & -0.446953578413442 & 0.172310466027269\\end{matrix}\\right] \\left[\\begin{matrix}849.296213799753 & 0.0 & 0.0 & 0.0\\\\0.0 & 709.204801114353 & 0.0 & 0.0\\\\0.0 & 0.0 & 581.882619068591 & 0.0\\\\0.0 & 0.0 & 0.0 & 275.936785530453\\end{matrix}\\right] \\left[\\begin{matrix}-0.45135023732136 & 0.116963014985372 & 0.329571774536199 & 0.820965932196367\\\\0.304321728911804 & 0.936509560113955 & 0.17069964070804 & -0.0346375827838023\\\\0.713743995924459 & -0.14061201999192 & -0.385893103802671 & 0.567348466019891\\\\0.440728176186513 & -0.299161688747242 & 0.84458904236011 & -0.0541323278461271\\end{matrix}\\right]$"
      ],
      "text/plain": [
       "<IPython.core.display.Math object>"
      ]
     },
     "metadata": {},
     "output_type": "display_data"
    }
   ],
   "source": [
    "t = sp.latex(sp.Eq(sp.Matrix(C), sp.MatMul(sp.MatMul(sp.Matrix(V), sp.Matrix(W)), sp.Matrix(U.T))))\n",
    "r = r'{}'.format(t)\n",
    "display(Math(r))"
   ]
  }
 ],
 "metadata": {
  "kernelspec": {
   "display_name": "Python 3",
   "language": "python",
   "name": "python3"
  },
  "language_info": {
   "codemirror_mode": {
    "name": "ipython",
    "version": 3
   },
   "file_extension": ".py",
   "mimetype": "text/x-python",
   "name": "python",
   "nbconvert_exporter": "python",
   "pygments_lexer": "ipython3",
   "version": "3.7.1"
  }
 },
 "nbformat": 4,
 "nbformat_minor": 2
}
